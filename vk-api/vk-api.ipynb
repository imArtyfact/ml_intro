{
 "cells": [
  {
   "cell_type": "markdown",
   "metadata": {
    "slideshow": {
     "slide_type": "slide"
    }
   },
   "source": [
    "<h1><center>Лекция №6: Введение в анализ социальных сетей</center></h1>\n",
    "<hr>\n",
    "<h1><center>Домашняя работа</center></h1>"
   ]
  },
  {
   "cell_type": "markdown",
   "metadata": {},
   "source": [
    "Данное ДЗ является довольно творческим и оно требует довольно много самостоятельной работы, так что не стоит с ним мешкать =)\n",
    "\n",
    "Вам предлагается выбрать сообщество (или сообщества) в сети ВКонтакте и проанализировать его (их) контингент. \n",
    "\n",
    "\n",
    "**Правила:**\n",
    "* Отчеты принимаются до **23:59 11 ноября**. Вы должны залить ваш ноутбук в github дать на него ссылку в следующей [форме](https://forms.gle/88d9CfaJN5gPV4bB8).\n",
    "* Работоспособность будет проверяться через [colab](https://colab.research.google.com) (можете сразу давать ссылку на него). Если ноутбук не будет исполняться (падать по ошибке) то все, что будет написано после ошибки не будет учитываться при формировании оценки \n",
    "* Вы должны включить код, с помощью которого вы общались с API вконтакте, но для экономии времени, заранее предусмотреть возможность загрузки уже собранных данных (например, как это было реализовано в ноутбуках по кластеризации через `wget` и dropbox или raw данными в github)\n",
    "\n",
    "**Пожелания:**\n",
    "* Выбирайте для анализа небольшие сообщества (до 5к), желательно чтобы вы сами в них состояли - это ускорит вычисления и упростит интерпретацию\n",
    "* Отнеситесь к этой работе как к исследованию - больше графиков и комментариев!\n",
    "* Красивые визуализации лучше делать через gephi!"
   ]
  },
  {
   "cell_type": "markdown",
   "metadata": {},
   "source": [
    "# Загрузка данных (2 балла)"
   ]
  },
  {
   "cell_type": "markdown",
   "metadata": {
    "slideshow": {
     "slide_type": "subslide"
    }
   },
   "source": [
    "Изучите следующие материалы\n",
    "* [Знакомство с API](https://vk.com/dev/first_guide)\n",
    "* [Туториал](https://nbviewer.jupyter.org/github/allatambov/Py-programming-3/blob/master/15-06/lect-vk-api.ipynb) по выгрузке данных с помощью VKAPI\n",
    "* Про метод execute - [туть](https://vk.com/dev/execute) и [туть](http://www.cyberforum.ru/python-web/thread1730446.html)\n",
    "\n",
    "Выберите сообщество и загрузите\n",
    "* Идентификаторы всех [участников сообщества](https://vk.com/dev/groups.getMembers)\n",
    "* [Списки друзей](https://vk.com/dev/friends.get) участников и их признаки (пол, возраст, университет и все, что посчитаете нужным - нам потом группировать по этим атрибутам)\n",
    "* [Пересечение](https://vk.com/dev/friends.getMutual) между списками друзей\n",
    "\n",
    "Таким образом вы должны получить замкнутую группу аккаунтов с их друзьями и связями между ними.\n",
    "\n",
    "Далее - соберите их этого граф в networkX и сохраните в graphml или gml формате\n",
    "\n",
    "**Замечания:**\n",
    "* Вконтакте может ограничить вам скорость запросов, поэтому иногда имеет смысл ставить небольшую паузу (`time.sleep(1)`) между запросами и сохранять предварительные результаты\n",
    "* Код выгрузки может быть написан как с помощью модуля `vk` так и просто с помощью requests \n"
   ]
  },
  {
   "cell_type": "code",
   "execution_count": 136,
   "metadata": {
    "scrolled": false
   },
   "outputs": [],
   "source": [
    "import vk\n",
    "import pandas as pd\n",
    "import matplotlib.pyplot as plt\n",
    "import pandas as pd\n",
    "\n",
    "from tqdm import tqdm_notebook as tqdm\n",
    "from time import sleep\n",
    "\n",
    "import networkx as nx"
   ]
  },
  {
   "cell_type": "code",
   "execution_count": 137,
   "metadata": {},
   "outputs": [],
   "source": [
    "# запишите ваш токен здесь\n",
    "token = ''"
   ]
  },
  {
   "cell_type": "code",
   "execution_count": 138,
   "metadata": {},
   "outputs": [],
   "source": [
    "session = vk.Session(access_token = token) # открыть сессию для работы\n",
    "api = vk.API(session) # подключиться к API"
   ]
  },
  {
   "cell_type": "code",
   "execution_count": 140,
   "metadata": {},
   "outputs": [],
   "source": [
    "# \"Линейные оболочки каждый день\"\n",
    "group = 'obolo4ka'"
   ]
  },
  {
   "cell_type": "code",
   "execution_count": 163,
   "metadata": {},
   "outputs": [],
   "source": [
    "items = []\n",
    "\n",
    "for i in range(0, int(pd.DataFrame(api.groups.getMembers(group_id = group, v = 5.73))['count'][0]/1000) + 1):\n",
    "    res2 = api.groups.getMembers(group_id = group, count = 1000, offset = 1000 * i, v = 5.73)\n",
    "    \n",
    "    items2 = res2['items']\n",
    "    items.extend(items2) # добавляем к первой сотне постов в items\n",
    "    sleep(10)\n",
    "\n",
    "len(items)"
   ]
  },
  {
   "cell_type": "code",
   "execution_count": 167,
   "metadata": {},
   "outputs": [
    {
     "data": {
      "application/vnd.jupyter.widget-view+json": {
       "model_id": "f8e3fded3725474ea7a5a9e20a0a2791",
       "version_major": 2,
       "version_minor": 0
      },
      "text/plain": [
       "HBox(children=(IntProgress(value=0, max=1048), HTML(value='')))"
      ]
     },
     "metadata": {},
     "output_type": "display_data"
    },
    {
     "name": "stdout",
     "output_type": "stream",
     "text": [
      "\n"
     ]
    }
   ],
   "source": [
    "friends_feats = {}\n",
    "\n",
    "for i in tqdm(range(len(items))):\n",
    "    try:\n",
    "        friends_feats[i] = api.friends.get(user_id = items[i], v= 5.73, fields=['sex', 'city', 'university'])\n",
    "    except: \n",
    "        pass"
   ]
  },
  {
   "cell_type": "code",
   "execution_count": 172,
   "metadata": {},
   "outputs": [
    {
     "data": {
      "text/plain": [
       "180"
      ]
     },
     "execution_count": 172,
     "metadata": {},
     "output_type": "execute_result"
    }
   ],
   "source": [
    "len(friends_feats)"
   ]
  },
  {
   "cell_type": "code",
   "execution_count": 209,
   "metadata": {},
   "outputs": [],
   "source": [
    "# создание графа\n",
    "g = nx.Graph()"
   ]
  },
  {
   "cell_type": "code",
   "execution_count": 210,
   "metadata": {
    "scrolled": true
   },
   "outputs": [
    {
     "data": {
      "application/vnd.jupyter.widget-view+json": {
       "model_id": "464c24fdd3e94b30889978866fd7c34b",
       "version_major": 2,
       "version_minor": 0
      },
      "text/plain": [
       "HBox(children=(IntProgress(value=0, max=1048), HTML(value='')))"
      ]
     },
     "metadata": {},
     "output_type": "display_data"
    },
    {
     "name": "stdout",
     "output_type": "stream",
     "text": [
      "\n"
     ]
    }
   ],
   "source": [
    "for i in tqdm(range(len(items))):\n",
    "    try:\n",
    "        friends = friends_feats[i]['items']\n",
    "        \n",
    "        g.add_nodes_from((fr['id'], {'sex': fr.get('sex', -1), \n",
    "                                     'first_name': fr.get('first_name', -1), \n",
    "                                     'last_name': fr.get('last_name', -1)}) for fr in friends)\n",
    "                                     \n",
    "        for fr in friends:   \n",
    "            g.add_edge(items[i], fr['id'])\n",
    "        \n",
    "            try:\n",
    "                city = fr['city']['title']\n",
    "            except KeyError:\n",
    "                city = -1\n",
    "                \n",
    "            nx.set_node_attributes(g, {fr['id']: city}, 'city')\n",
    "            nx.set_node_attributes(g, {fr['id']: 0}, 'is_member')\n",
    "        \n",
    "    except KeyError:\n",
    "        pass"
   ]
  },
  {
   "cell_type": "code",
   "execution_count": 244,
   "metadata": {
    "scrolled": true
   },
   "outputs": [
    {
     "data": {
      "application/vnd.jupyter.widget-view+json": {
       "model_id": "e1e76748c06346ac9d6d4a25fdf4976f",
       "version_major": 2,
       "version_minor": 0
      },
      "text/plain": [
       "HBox(children=(IntProgress(value=0, max=1048), HTML(value='')))"
      ]
     },
     "metadata": {},
     "output_type": "display_data"
    },
    {
     "name": "stdout",
     "output_type": "stream",
     "text": [
      "\n"
     ]
    }
   ],
   "source": [
    "for item in tqdm(items):\n",
    "    nx.set_node_attributes(g, {item: 1}, 'is_member')\n",
    "    try:\n",
    "        info = api.users.get(user_id = item, v= 5.73, fields=['sex', 'city'])[0]\n",
    "        nx.set_node_attributes(g, {item: info['sex']}, 'sex')\n",
    "        nx.set_node_attributes(g, {item: info['city']['title']}, 'city')\n",
    "    except:\n",
    "        pass"
   ]
  },
  {
   "cell_type": "code",
   "execution_count": 252,
   "metadata": {},
   "outputs": [
    {
     "data": {
      "text/plain": [
       "(30651, 39342)"
      ]
     },
     "execution_count": 252,
     "metadata": {},
     "output_type": "execute_result"
    }
   ],
   "source": [
    "len(g.nodes), len(g.edges)"
   ]
  },
  {
   "cell_type": "code",
   "execution_count": 253,
   "metadata": {},
   "outputs": [],
   "source": [
    "nx.write_graphml(g, 'obolo4ka.graphml')\n",
    "nx.write_graphml(g, 'obolo4ka.gml')"
   ]
  },
  {
   "cell_type": "code",
   "execution_count": 257,
   "metadata": {},
   "outputs": [],
   "source": [
    "# gg = nx.read_gml('obolo4ka.gml')"
   ]
  },
  {
   "cell_type": "markdown",
   "metadata": {},
   "source": [
    "# Визуализация (1 балл)"
   ]
  },
  {
   "cell_type": "markdown",
   "metadata": {},
   "source": [
    "* Откройте полученный граф в gephi\n",
    "* Выберите наиболее удачный на ваш взгляд алгоритм прорисовки\n",
    "* Добавьте изменение размера вершины в зависимости от степени вершины\n",
    "* Вставьте скрин-шот ниже"
   ]
  },
  {
   "cell_type": "markdown",
   "metadata": {},
   "source": [
    "Раскраска в зависимости от пола не так красноречива:"
   ]
  },
  {
   "cell_type": "markdown",
   "metadata": {},
   "source": [
    "<center><img src='img/1.png', width=1200></center>"
   ]
  },
  {
   "cell_type": "markdown",
   "metadata": {},
   "source": [
    "Раскраска по городам оказалась поинтереснее: можно заметить, что некоторые участники образовали кластеры по городам"
   ]
  },
  {
   "cell_type": "markdown",
   "metadata": {},
   "source": [
    "<center><img src='img/2.png', width=1200></center>"
   ]
  },
  {
   "cell_type": "markdown",
   "metadata": {},
   "source": [
    "Скриншот в приближении: добавлена зависимость размера вершины от ее степени "
   ]
  },
  {
   "cell_type": "markdown",
   "metadata": {},
   "source": [
    "<center><img src='img/3.png', width=1200></center>"
   ]
  },
  {
   "cell_type": "markdown",
   "metadata": {},
   "source": [
    "# Центральности вершин (1.5 балла)"
   ]
  },
  {
   "cell_type": "markdown",
   "metadata": {},
   "source": [
    "Возможно, перед тем как пойти дальше, стоит немного почитстить граф - с помощью [kcore](https://www.google.com/search?client=firefox-b-d&q=networkx+kcore)\n",
    "\n",
    "* Найдите наиболее влиятельные вершины с точки зрения degree, closeness и betweenness centrality\n",
    "* Выделите их на картинке в gephi"
   ]
  },
  {
   "cell_type": "code",
   "execution_count": 383,
   "metadata": {},
   "outputs": [],
   "source": [
    "# функция возвращает id в словаре, значения которых входят в топ 10%\n",
    "\n",
    "def leave_higher(dictionary, top=0.1):\n",
    "    df = pd.DataFrame()\n",
    "    df['id'], df['val'] = dictionary.keys(), dictionary.values()\n",
    "    level = np.quantile(df['val'], 1-top)\n",
    "    ids = df[df['val'] > level]['id'].values\n",
    "    return ids"
   ]
  },
  {
   "cell_type": "code",
   "execution_count": 384,
   "metadata": {},
   "outputs": [
    {
     "data": {
      "text/plain": [
       "(763, 5551)"
      ]
     },
     "execution_count": 384,
     "metadata": {},
     "output_type": "execute_result"
    }
   ],
   "source": [
    "# чистка графа - оставим вершины степени не менее k=5\n",
    "gg = nx.k_core(g, k=5)\n",
    "\n",
    "len(gg.nodes), len(gg.edges)"
   ]
  },
  {
   "cell_type": "code",
   "execution_count": 387,
   "metadata": {},
   "outputs": [],
   "source": [
    "ids = leave_higher(nx.centrality.degree_centrality(gg))\n",
    "for idd in ids:\n",
    "    nx.set_node_attributes(gg, {idd: 1}, 'degree_centrality')\n",
    "\n",
    "ids = leave_higher(nx.centrality.closeness_centrality(gg))\n",
    "for idd in ids:\n",
    "    nx.set_node_attributes(gg, {idd: 1}, 'closeness_centrality')\n",
    "\n",
    "ids = leave_higher(nx.centrality.betweenness_centrality(gg))\n",
    "for idd in ids:\n",
    "    nx.set_node_attributes(gg, {idd: 1}, 'betweenness_centrality')"
   ]
  },
  {
   "cell_type": "code",
   "execution_count": 389,
   "metadata": {},
   "outputs": [],
   "source": [
    "nx.write_graphml(gg, 'obolo4ka-centralities.graphml')"
   ]
  },
  {
   "cell_type": "markdown",
   "metadata": {},
   "source": [
    "<center><img src='img/centr-1.png', width=1200></center>"
   ]
  },
  {
   "cell_type": "markdown",
   "metadata": {},
   "source": [
    "<center><img src='img/centr-2.png', width=1200></center>"
   ]
  },
  {
   "cell_type": "markdown",
   "metadata": {},
   "source": [
    "<center><img src='img/centr-3.png', width=1200></center>"
   ]
  },
  {
   "cell_type": "markdown",
   "metadata": {},
   "source": [
    "# Сообщества... в сообществе (1.5 балла)\n",
    "\n",
    "Выберите алгоритм выделения сообществ на графах и алгоритм на основе похожести вершин. Для обоих вариантов\n",
    "* Выделите сообщества, опираясь на максимальное значение модулярности для полученного разбиения\n",
    "* Изобразите граф с вершинами, раскрашенными в цвет своего сообщества в gephi\n",
    "* Попробуйте проинтерпретировать полученные сообщества, кто эти люди, почему они всязаны?\n",
    "* Какой метод на ваш взгляд сработал лучше?"
   ]
  },
  {
   "cell_type": "code",
   "execution_count": 7,
   "metadata": {},
   "outputs": [],
   "source": [
    "### Ваш код, картинки и комментарии ниже"
   ]
  },
  {
   "cell_type": "markdown",
   "metadata": {},
   "source": [
    "# Асортативность по признакам (1.5 балла)\n",
    "\n",
    "* Посчитайте коэффициенты асортативности для признаков вершин (пол, возраст, университет, школа, город, количество друзей, etc)\n",
    "* Проинтерпретируйте полученные результаты"
   ]
  },
  {
   "cell_type": "code",
   "execution_count": 9,
   "metadata": {},
   "outputs": [],
   "source": [
    "### Ваш код, картинки и комментарии ниже"
   ]
  }
 ],
 "metadata": {
  "anaconda-cloud": {},
  "kernelspec": {
   "display_name": "Python 3",
   "language": "python",
   "name": "python3"
  },
  "language_info": {
   "codemirror_mode": {
    "name": "ipython",
    "version": 3
   },
   "file_extension": ".py",
   "mimetype": "text/x-python",
   "name": "python",
   "nbconvert_exporter": "python",
   "pygments_lexer": "ipython3",
   "version": "3.7.1"
  },
  "nav_menu": {},
  "toc": {
   "base_numbering": 1,
   "nav_menu": {
    "height": "347px",
    "width": "253px"
   },
   "number_sections": false,
   "sideBar": true,
   "skip_h1_title": false,
   "title_cell": "Table of Contents",
   "title_sidebar": "Contents",
   "toc_cell": false,
   "toc_position": {
    "height": "100px",
    "left": "46px",
    "right": "398.5px",
    "top": "111.133px",
    "width": "165px"
   },
   "toc_section_display": true,
   "toc_window_display": true
  },
  "toc_position": {
   "height": "40px",
   "left": "816px",
   "right": "38.6667px",
   "top": "0px",
   "width": "212px"
  }
 },
 "nbformat": 4,
 "nbformat_minor": 1
}
